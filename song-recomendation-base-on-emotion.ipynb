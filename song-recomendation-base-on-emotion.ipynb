{
 "cells": [
  {
   "cell_type": "code",
   "execution_count": 2,
   "metadata": {
    "_cell_guid": "b1076dfc-b9ad-4769-8c92-a6c4dae69d19",
    "_uuid": "8f2839f25d086af736a60e9eeb907d3b93b6e0e5",
    "execution": {
     "iopub.execute_input": "2025-02-07T06:40:50.235708Z",
     "iopub.status.busy": "2025-02-07T06:40:50.235400Z",
     "iopub.status.idle": "2025-02-07T06:40:50.239216Z",
     "shell.execute_reply": "2025-02-07T06:40:50.238312Z",
     "shell.execute_reply.started": "2025-02-07T06:40:50.235687Z"
    },
    "trusted": true
   },
   "outputs": [],
   "source": [
    "# # This Python 3 environment comes with many helpful analytics libraries installed\n",
    "# # It is defined by the kaggle/python Docker image: https://github.com/kaggle/docker-python\n",
    "# # For example, here's several helpful packages to load\n",
    "\n",
    "# import numpy as np # linear algebra\n",
    "# import pandas as pd # data processing, CSV file I/O (e.g. pd.read_csv)\n",
    "\n",
    "# # Input data files are available in the read-only \"../input/\" directory\n",
    "# # For example, running this (by clicking run or pressing Shift+Enter) will list all files under the input directory\n",
    "\n",
    "# import os\n",
    "# for dirname, _, filenames in os.walk('/kaggle/input'):\n",
    "#     for filename in filenames:\n",
    "#         print(os.path.join(dirname, filename))\n",
    "\n",
    "# # You can write up to 20GB to the current directory (/kaggle/working/) that gets preserved as output when you create a version using \"Save & Run All\" \n",
    "# # You can also write temporary files to /kaggle/temp/, but they won't be saved outside of the current session"
   ]
  },
  {
   "cell_type": "code",
   "execution_count": 12,
   "metadata": {
    "execution": {
     "iopub.execute_input": "2025-02-07T06:42:10.317941Z",
     "iopub.status.busy": "2025-02-07T06:42:10.317527Z",
     "iopub.status.idle": "2025-02-07T06:42:10.324958Z",
     "shell.execute_reply": "2025-02-07T06:42:10.323973Z",
     "shell.execute_reply.started": "2025-02-07T06:42:10.317903Z"
    },
    "trusted": true
   },
   "outputs": [],
   "source": [
    "import os\n",
    "from nltk.corpus import stopwords\n",
    "from nltk.tokenize import word_tokenize\n",
    "from keras.initializers import Constant\n",
    "from keras.models import Sequential\n",
    "from keras.utils import plot_model\n",
    "from keras.layers import Dense, Embedding, Dropout, Flatten, Conv1D, GlobalMaxPooling1D, MaxPooling1D, Embedding\n",
    "from sklearn.metrics import confusion_matrix\n",
    "from keras.preprocessing.sequence import pad_sequences\n",
    "import matplotlib.pyplot as plt\n",
    "from sklearn.preprocessing import LabelBinarizer\n",
    "from sklearn.model_selection import train_test_split\n",
    "from tensorflow.keras.preprocessing.text import Tokenizer\n",
    "from matplotlib.pyplot import figure\n",
    "import seaborn as sn\n",
    "import pandas as pd\n",
    "import numpy as np\n",
    "import string\n",
    "import re"
   ]
  },
  {
   "cell_type": "code",
   "execution_count": 13,
   "metadata": {
    "execution": {
     "iopub.execute_input": "2025-02-07T06:42:17.904808Z",
     "iopub.status.busy": "2025-02-07T06:42:17.904495Z",
     "iopub.status.idle": "2025-02-07T06:42:18.716683Z",
     "shell.execute_reply": "2025-02-07T06:42:18.715949Z",
     "shell.execute_reply.started": "2025-02-07T06:42:17.904776Z"
    },
    "trusted": true
   },
   "outputs": [],
   "source": [
    "df=pd.read_csv('/kaggle/input/sspotufy-song-dataset/spotify_millsongdata.csv')"
   ]
  },
  {
   "cell_type": "code",
   "execution_count": 14,
   "metadata": {
    "execution": {
     "iopub.execute_input": "2025-02-07T06:42:19.962925Z",
     "iopub.status.busy": "2025-02-07T06:42:19.962635Z",
     "iopub.status.idle": "2025-02-07T06:42:21.924978Z",
     "shell.execute_reply": "2025-02-07T06:42:21.924312Z",
     "shell.execute_reply.started": "2025-02-07T06:42:19.962903Z"
    },
    "trusted": true
   },
   "outputs": [],
   "source": [
    "def clean_text(text):\n",
    "    text = re.sub(r'\\[.*?\\]', '', text)  # Remove text in brackets\n",
    "    text = re.sub(r'\\n', ' ', text)      # Replace newlines with spaces\n",
    "    text = re.sub(r'[^\\w\\s]', '', text)  # Remove punctuation\n",
    "    text = text.lower().strip()          # Convert to lowercase and strip spaces\n",
    "    return text\n",
    "\n",
    "df['clean_lyrics'] = df['text'].apply(clean_text)"
   ]
  },
  {
   "cell_type": "code",
   "execution_count": null,
   "metadata": {
    "trusted": true
   },
   "outputs": [],
   "source": []
  },
  {
   "cell_type": "code",
   "execution_count": 15,
   "metadata": {
    "execution": {
     "iopub.execute_input": "2025-02-07T06:42:25.018584Z",
     "iopub.status.busy": "2025-02-07T06:42:25.018248Z",
     "iopub.status.idle": "2025-02-07T06:42:25.029021Z",
     "shell.execute_reply": "2025-02-07T06:42:25.028387Z",
     "shell.execute_reply.started": "2025-02-07T06:42:25.018553Z"
    },
    "trusted": true
   },
   "outputs": [
    {
     "data": {
      "text/html": [
       "<div>\n",
       "<style scoped>\n",
       "    .dataframe tbody tr th:only-of-type {\n",
       "        vertical-align: middle;\n",
       "    }\n",
       "\n",
       "    .dataframe tbody tr th {\n",
       "        vertical-align: top;\n",
       "    }\n",
       "\n",
       "    .dataframe thead th {\n",
       "        text-align: right;\n",
       "    }\n",
       "</style>\n",
       "<table border=\"1\" class=\"dataframe\">\n",
       "  <thead>\n",
       "    <tr style=\"text-align: right;\">\n",
       "      <th></th>\n",
       "      <th>artist</th>\n",
       "      <th>song</th>\n",
       "      <th>link</th>\n",
       "      <th>text</th>\n",
       "      <th>clean_lyrics</th>\n",
       "    </tr>\n",
       "  </thead>\n",
       "  <tbody>\n",
       "    <tr>\n",
       "      <th>0</th>\n",
       "      <td>ABBA</td>\n",
       "      <td>Ahe's My Kind Of Girl</td>\n",
       "      <td>/a/abba/ahes+my+kind+of+girl_20598417.html</td>\n",
       "      <td>Look at her face, it's a wonderful face  \\r\\nA...</td>\n",
       "      <td>look at her face its a wonderful face  \\r and ...</td>\n",
       "    </tr>\n",
       "    <tr>\n",
       "      <th>1</th>\n",
       "      <td>ABBA</td>\n",
       "      <td>Andante, Andante</td>\n",
       "      <td>/a/abba/andante+andante_20002708.html</td>\n",
       "      <td>Take it easy with me, please  \\r\\nTouch me gen...</td>\n",
       "      <td>take it easy with me please  \\r touch me gentl...</td>\n",
       "    </tr>\n",
       "    <tr>\n",
       "      <th>2</th>\n",
       "      <td>ABBA</td>\n",
       "      <td>As Good As New</td>\n",
       "      <td>/a/abba/as+good+as+new_20003033.html</td>\n",
       "      <td>I'll never know why I had to go  \\r\\nWhy I had...</td>\n",
       "      <td>ill never know why i had to go  \\r why i had t...</td>\n",
       "    </tr>\n",
       "    <tr>\n",
       "      <th>3</th>\n",
       "      <td>ABBA</td>\n",
       "      <td>Bang</td>\n",
       "      <td>/a/abba/bang_20598415.html</td>\n",
       "      <td>Making somebody happy is a question of give an...</td>\n",
       "      <td>making somebody happy is a question of give an...</td>\n",
       "    </tr>\n",
       "    <tr>\n",
       "      <th>4</th>\n",
       "      <td>ABBA</td>\n",
       "      <td>Bang-A-Boomerang</td>\n",
       "      <td>/a/abba/bang+a+boomerang_20002668.html</td>\n",
       "      <td>Making somebody happy is a question of give an...</td>\n",
       "      <td>making somebody happy is a question of give an...</td>\n",
       "    </tr>\n",
       "    <tr>\n",
       "      <th>...</th>\n",
       "      <td>...</td>\n",
       "      <td>...</td>\n",
       "      <td>...</td>\n",
       "      <td>...</td>\n",
       "      <td>...</td>\n",
       "    </tr>\n",
       "    <tr>\n",
       "      <th>57645</th>\n",
       "      <td>Ziggy Marley</td>\n",
       "      <td>Good Old Days</td>\n",
       "      <td>/z/ziggy+marley/good+old+days_10198588.html</td>\n",
       "      <td>Irie days come on play  \\r\\nLet the angels fly...</td>\n",
       "      <td>irie days come on play  \\r let the angels fly ...</td>\n",
       "    </tr>\n",
       "    <tr>\n",
       "      <th>57646</th>\n",
       "      <td>Ziggy Marley</td>\n",
       "      <td>Hand To Mouth</td>\n",
       "      <td>/z/ziggy+marley/hand+to+mouth_20531167.html</td>\n",
       "      <td>Power to the workers  \\r\\nMore power  \\r\\nPowe...</td>\n",
       "      <td>power to the workers  \\r more power  \\r power ...</td>\n",
       "    </tr>\n",
       "    <tr>\n",
       "      <th>57647</th>\n",
       "      <td>Zwan</td>\n",
       "      <td>Come With Me</td>\n",
       "      <td>/z/zwan/come+with+me_20148981.html</td>\n",
       "      <td>all you need  \\r\\nis something i'll believe  \\...</td>\n",
       "      <td>all you need  \\r is something ill believe  \\r ...</td>\n",
       "    </tr>\n",
       "    <tr>\n",
       "      <th>57648</th>\n",
       "      <td>Zwan</td>\n",
       "      <td>Desire</td>\n",
       "      <td>/z/zwan/desire_20148986.html</td>\n",
       "      <td>northern star  \\r\\nam i frightened  \\r\\nwhere ...</td>\n",
       "      <td>northern star  \\r am i frightened  \\r where ca...</td>\n",
       "    </tr>\n",
       "    <tr>\n",
       "      <th>57649</th>\n",
       "      <td>Zwan</td>\n",
       "      <td>Heartsong</td>\n",
       "      <td>/z/zwan/heartsong_20148991.html</td>\n",
       "      <td>come in  \\r\\nmake yourself at home  \\r\\ni'm a ...</td>\n",
       "      <td>come in  \\r make yourself at home  \\r im a bit...</td>\n",
       "    </tr>\n",
       "  </tbody>\n",
       "</table>\n",
       "<p>57650 rows × 5 columns</p>\n",
       "</div>"
      ],
      "text/plain": [
       "             artist                   song  \\\n",
       "0              ABBA  Ahe's My Kind Of Girl   \n",
       "1              ABBA       Andante, Andante   \n",
       "2              ABBA         As Good As New   \n",
       "3              ABBA                   Bang   \n",
       "4              ABBA       Bang-A-Boomerang   \n",
       "...             ...                    ...   \n",
       "57645  Ziggy Marley          Good Old Days   \n",
       "57646  Ziggy Marley          Hand To Mouth   \n",
       "57647          Zwan           Come With Me   \n",
       "57648          Zwan                 Desire   \n",
       "57649          Zwan              Heartsong   \n",
       "\n",
       "                                              link  \\\n",
       "0       /a/abba/ahes+my+kind+of+girl_20598417.html   \n",
       "1            /a/abba/andante+andante_20002708.html   \n",
       "2             /a/abba/as+good+as+new_20003033.html   \n",
       "3                       /a/abba/bang_20598415.html   \n",
       "4           /a/abba/bang+a+boomerang_20002668.html   \n",
       "...                                            ...   \n",
       "57645  /z/ziggy+marley/good+old+days_10198588.html   \n",
       "57646  /z/ziggy+marley/hand+to+mouth_20531167.html   \n",
       "57647           /z/zwan/come+with+me_20148981.html   \n",
       "57648                 /z/zwan/desire_20148986.html   \n",
       "57649              /z/zwan/heartsong_20148991.html   \n",
       "\n",
       "                                                    text  \\\n",
       "0      Look at her face, it's a wonderful face  \\r\\nA...   \n",
       "1      Take it easy with me, please  \\r\\nTouch me gen...   \n",
       "2      I'll never know why I had to go  \\r\\nWhy I had...   \n",
       "3      Making somebody happy is a question of give an...   \n",
       "4      Making somebody happy is a question of give an...   \n",
       "...                                                  ...   \n",
       "57645  Irie days come on play  \\r\\nLet the angels fly...   \n",
       "57646  Power to the workers  \\r\\nMore power  \\r\\nPowe...   \n",
       "57647  all you need  \\r\\nis something i'll believe  \\...   \n",
       "57648  northern star  \\r\\nam i frightened  \\r\\nwhere ...   \n",
       "57649  come in  \\r\\nmake yourself at home  \\r\\ni'm a ...   \n",
       "\n",
       "                                            clean_lyrics  \n",
       "0      look at her face its a wonderful face  \\r and ...  \n",
       "1      take it easy with me please  \\r touch me gentl...  \n",
       "2      ill never know why i had to go  \\r why i had t...  \n",
       "3      making somebody happy is a question of give an...  \n",
       "4      making somebody happy is a question of give an...  \n",
       "...                                                  ...  \n",
       "57645  irie days come on play  \\r let the angels fly ...  \n",
       "57646  power to the workers  \\r more power  \\r power ...  \n",
       "57647  all you need  \\r is something ill believe  \\r ...  \n",
       "57648  northern star  \\r am i frightened  \\r where ca...  \n",
       "57649  come in  \\r make yourself at home  \\r im a bit...  \n",
       "\n",
       "[57650 rows x 5 columns]"
      ]
     },
     "execution_count": 15,
     "metadata": {},
     "output_type": "execute_result"
    }
   ],
   "source": [
    "df\n"
   ]
  },
  {
   "cell_type": "code",
   "execution_count": 16,
   "metadata": {
    "execution": {
     "iopub.execute_input": "2025-02-07T06:42:26.308316Z",
     "iopub.status.busy": "2025-02-07T06:42:26.307970Z",
     "iopub.status.idle": "2025-02-07T06:42:26.324375Z",
     "shell.execute_reply": "2025-02-07T06:42:26.323481Z",
     "shell.execute_reply.started": "2025-02-07T06:42:26.308284Z"
    },
    "trusted": true
   },
   "outputs": [],
   "source": [
    "df=df.drop('link',axis=1)\n",
    "df=df.drop('text',axis=1)\n"
   ]
  },
  {
   "cell_type": "code",
   "execution_count": 17,
   "metadata": {
    "execution": {
     "iopub.execute_input": "2025-02-07T06:42:28.440328Z",
     "iopub.status.busy": "2025-02-07T06:42:28.439973Z",
     "iopub.status.idle": "2025-02-07T06:42:28.449632Z",
     "shell.execute_reply": "2025-02-07T06:42:28.448909Z",
     "shell.execute_reply.started": "2025-02-07T06:42:28.440295Z"
    },
    "trusted": true
   },
   "outputs": [
    {
     "data": {
      "text/html": [
       "<div>\n",
       "<style scoped>\n",
       "    .dataframe tbody tr th:only-of-type {\n",
       "        vertical-align: middle;\n",
       "    }\n",
       "\n",
       "    .dataframe tbody tr th {\n",
       "        vertical-align: top;\n",
       "    }\n",
       "\n",
       "    .dataframe thead th {\n",
       "        text-align: right;\n",
       "    }\n",
       "</style>\n",
       "<table border=\"1\" class=\"dataframe\">\n",
       "  <thead>\n",
       "    <tr style=\"text-align: right;\">\n",
       "      <th></th>\n",
       "      <th>artist</th>\n",
       "      <th>song</th>\n",
       "      <th>clean_lyrics</th>\n",
       "    </tr>\n",
       "  </thead>\n",
       "  <tbody>\n",
       "    <tr>\n",
       "      <th>0</th>\n",
       "      <td>ABBA</td>\n",
       "      <td>Ahe's My Kind Of Girl</td>\n",
       "      <td>look at her face its a wonderful face  \\r and ...</td>\n",
       "    </tr>\n",
       "    <tr>\n",
       "      <th>1</th>\n",
       "      <td>ABBA</td>\n",
       "      <td>Andante, Andante</td>\n",
       "      <td>take it easy with me please  \\r touch me gentl...</td>\n",
       "    </tr>\n",
       "    <tr>\n",
       "      <th>2</th>\n",
       "      <td>ABBA</td>\n",
       "      <td>As Good As New</td>\n",
       "      <td>ill never know why i had to go  \\r why i had t...</td>\n",
       "    </tr>\n",
       "    <tr>\n",
       "      <th>3</th>\n",
       "      <td>ABBA</td>\n",
       "      <td>Bang</td>\n",
       "      <td>making somebody happy is a question of give an...</td>\n",
       "    </tr>\n",
       "    <tr>\n",
       "      <th>4</th>\n",
       "      <td>ABBA</td>\n",
       "      <td>Bang-A-Boomerang</td>\n",
       "      <td>making somebody happy is a question of give an...</td>\n",
       "    </tr>\n",
       "    <tr>\n",
       "      <th>...</th>\n",
       "      <td>...</td>\n",
       "      <td>...</td>\n",
       "      <td>...</td>\n",
       "    </tr>\n",
       "    <tr>\n",
       "      <th>57645</th>\n",
       "      <td>Ziggy Marley</td>\n",
       "      <td>Good Old Days</td>\n",
       "      <td>irie days come on play  \\r let the angels fly ...</td>\n",
       "    </tr>\n",
       "    <tr>\n",
       "      <th>57646</th>\n",
       "      <td>Ziggy Marley</td>\n",
       "      <td>Hand To Mouth</td>\n",
       "      <td>power to the workers  \\r more power  \\r power ...</td>\n",
       "    </tr>\n",
       "    <tr>\n",
       "      <th>57647</th>\n",
       "      <td>Zwan</td>\n",
       "      <td>Come With Me</td>\n",
       "      <td>all you need  \\r is something ill believe  \\r ...</td>\n",
       "    </tr>\n",
       "    <tr>\n",
       "      <th>57648</th>\n",
       "      <td>Zwan</td>\n",
       "      <td>Desire</td>\n",
       "      <td>northern star  \\r am i frightened  \\r where ca...</td>\n",
       "    </tr>\n",
       "    <tr>\n",
       "      <th>57649</th>\n",
       "      <td>Zwan</td>\n",
       "      <td>Heartsong</td>\n",
       "      <td>come in  \\r make yourself at home  \\r im a bit...</td>\n",
       "    </tr>\n",
       "  </tbody>\n",
       "</table>\n",
       "<p>57650 rows × 3 columns</p>\n",
       "</div>"
      ],
      "text/plain": [
       "             artist                   song  \\\n",
       "0              ABBA  Ahe's My Kind Of Girl   \n",
       "1              ABBA       Andante, Andante   \n",
       "2              ABBA         As Good As New   \n",
       "3              ABBA                   Bang   \n",
       "4              ABBA       Bang-A-Boomerang   \n",
       "...             ...                    ...   \n",
       "57645  Ziggy Marley          Good Old Days   \n",
       "57646  Ziggy Marley          Hand To Mouth   \n",
       "57647          Zwan           Come With Me   \n",
       "57648          Zwan                 Desire   \n",
       "57649          Zwan              Heartsong   \n",
       "\n",
       "                                            clean_lyrics  \n",
       "0      look at her face its a wonderful face  \\r and ...  \n",
       "1      take it easy with me please  \\r touch me gentl...  \n",
       "2      ill never know why i had to go  \\r why i had t...  \n",
       "3      making somebody happy is a question of give an...  \n",
       "4      making somebody happy is a question of give an...  \n",
       "...                                                  ...  \n",
       "57645  irie days come on play  \\r let the angels fly ...  \n",
       "57646  power to the workers  \\r more power  \\r power ...  \n",
       "57647  all you need  \\r is something ill believe  \\r ...  \n",
       "57648  northern star  \\r am i frightened  \\r where ca...  \n",
       "57649  come in  \\r make yourself at home  \\r im a bit...  \n",
       "\n",
       "[57650 rows x 3 columns]"
      ]
     },
     "execution_count": 17,
     "metadata": {},
     "output_type": "execute_result"
    }
   ],
   "source": [
    "df"
   ]
  },
  {
   "cell_type": "code",
   "execution_count": 18,
   "metadata": {
    "execution": {
     "iopub.execute_input": "2025-02-07T06:42:31.826553Z",
     "iopub.status.busy": "2025-02-07T06:42:31.826193Z",
     "iopub.status.idle": "2025-02-07T06:48:32.625942Z",
     "shell.execute_reply": "2025-02-07T06:48:32.625199Z",
     "shell.execute_reply.started": "2025-02-07T06:42:31.826524Z"
    },
    "trusted": true
   },
   "outputs": [
    {
     "name": "stderr",
     "output_type": "stream",
     "text": [
      "Device set to use cuda:0\n"
     ]
    }
   ],
   "source": [
    "from transformers import pipeline\n",
    "\n",
    "# Load the Hugging Face emotion classifier\n",
    "emotion_classifier = pipeline(\"text-classification\", model=\"j-hartmann/emotion-english-distilroberta-base\", top_k=3)\n",
    "\n",
    "# Function to classify emotions\n",
    "def classify_emotions(lyrics):\n",
    "    if not lyrics or lyrics.strip() == \"\":\n",
    "        return []  # Return empty list for empty lyrics\n",
    "    try:\n",
    "        results = emotion_classifier(lyrics[:512])  # Limit to the first 512 characters\n",
    "        emotions = [res['label'] for res in results[0]]  # Access the first element and extract 'label'\n",
    "        return emotions if emotions else [\"neutral\"]\n",
    "    except Exception as e:\n",
    "        print(f\"Error processing lyrics: {e}\")\n",
    "        return []\n",
    "\n",
    "# Apply the function to populate the 'emotions' column\n",
    "df['emotions'] = df['clean_lyrics'].apply(classify_emotions)\n"
   ]
  },
  {
   "cell_type": "code",
   "execution_count": 19,
   "metadata": {
    "execution": {
     "iopub.execute_input": "2025-02-07T06:48:32.627261Z",
     "iopub.status.busy": "2025-02-07T06:48:32.626999Z",
     "iopub.status.idle": "2025-02-07T06:48:32.672134Z",
     "shell.execute_reply": "2025-02-07T06:48:32.671591Z",
     "shell.execute_reply.started": "2025-02-07T06:48:32.627229Z"
    },
    "trusted": true
   },
   "outputs": [],
   "source": [
    "# Mapping emotions to moods\n",
    "mood_mapping = {\n",
    "    \"joy\": \"happy\",\n",
    "    \"love\": \"love\",\n",
    "    \"anger\": \"angry\",\n",
    "    \"sadness\": \"sad\",\n",
    "    \"fear\": \"anxious\",\n",
    "    \"surprise\": \"excited\",\n",
    "    \"neutral\": \"neutral\"\n",
    "}\n",
    "\n",
    "def map_moods(emotions):\n",
    "    return [mood_mapping.get(emotion, \"unknown\") for emotion in emotions]\n",
    "\n",
    "# Apply the mood mapping\n",
    "df['moods'] = df['emotions'].apply(map_moods)\n"
   ]
  },
  {
   "cell_type": "code",
   "execution_count": 20,
   "metadata": {
    "execution": {
     "iopub.execute_input": "2025-02-07T06:48:32.673856Z",
     "iopub.status.busy": "2025-02-07T06:48:32.673642Z",
     "iopub.status.idle": "2025-02-07T06:48:32.706370Z",
     "shell.execute_reply": "2025-02-07T06:48:32.705716Z",
     "shell.execute_reply.started": "2025-02-07T06:48:32.673838Z"
    },
    "trusted": true
   },
   "outputs": [
    {
     "data": {
      "text/html": [
       "<div>\n",
       "<style scoped>\n",
       "    .dataframe tbody tr th:only-of-type {\n",
       "        vertical-align: middle;\n",
       "    }\n",
       "\n",
       "    .dataframe tbody tr th {\n",
       "        vertical-align: top;\n",
       "    }\n",
       "\n",
       "    .dataframe thead th {\n",
       "        text-align: right;\n",
       "    }\n",
       "</style>\n",
       "<table border=\"1\" class=\"dataframe\">\n",
       "  <thead>\n",
       "    <tr style=\"text-align: right;\">\n",
       "      <th></th>\n",
       "      <th>artist</th>\n",
       "      <th>song</th>\n",
       "    </tr>\n",
       "  </thead>\n",
       "  <tbody>\n",
       "    <tr>\n",
       "      <th>0</th>\n",
       "      <td>ABBA</td>\n",
       "      <td>Ahe's My Kind Of Girl</td>\n",
       "    </tr>\n",
       "    <tr>\n",
       "      <th>1</th>\n",
       "      <td>ABBA</td>\n",
       "      <td>Andante, Andante</td>\n",
       "    </tr>\n",
       "    <tr>\n",
       "      <th>2</th>\n",
       "      <td>ABBA</td>\n",
       "      <td>As Good As New</td>\n",
       "    </tr>\n",
       "    <tr>\n",
       "      <th>3</th>\n",
       "      <td>ABBA</td>\n",
       "      <td>Bang</td>\n",
       "    </tr>\n",
       "    <tr>\n",
       "      <th>4</th>\n",
       "      <td>ABBA</td>\n",
       "      <td>Bang-A-Boomerang</td>\n",
       "    </tr>\n",
       "  </tbody>\n",
       "</table>\n",
       "</div>"
      ],
      "text/plain": [
       "  artist                   song\n",
       "0   ABBA  Ahe's My Kind Of Girl\n",
       "1   ABBA       Andante, Andante\n",
       "2   ABBA         As Good As New\n",
       "3   ABBA                   Bang\n",
       "4   ABBA       Bang-A-Boomerang"
      ]
     },
     "execution_count": 20,
     "metadata": {},
     "output_type": "execute_result"
    }
   ],
   "source": [
    "def recommend_songs(mood, df, top_n=10):\n",
    "    \n",
    "    recommended_songs = df[df['moods'].apply(lambda moods: mood in moods)]\n",
    "    return recommended_songs[['artist', 'song']].head(top_n)\n",
    "\n",
    "recommend_songs('happy', df, top_n=5)\n"
   ]
  },
  {
   "cell_type": "code",
   "execution_count": 21,
   "metadata": {
    "execution": {
     "iopub.execute_input": "2025-02-07T06:48:32.707553Z",
     "iopub.status.busy": "2025-02-07T06:48:32.707294Z",
     "iopub.status.idle": "2025-02-07T06:48:32.729565Z",
     "shell.execute_reply": "2025-02-07T06:48:32.728824Z",
     "shell.execute_reply.started": "2025-02-07T06:48:32.707532Z"
    },
    "trusted": true
   },
   "outputs": [
    {
     "data": {
      "text/html": [
       "<div>\n",
       "<style scoped>\n",
       "    .dataframe tbody tr th:only-of-type {\n",
       "        vertical-align: middle;\n",
       "    }\n",
       "\n",
       "    .dataframe tbody tr th {\n",
       "        vertical-align: top;\n",
       "    }\n",
       "\n",
       "    .dataframe thead th {\n",
       "        text-align: right;\n",
       "    }\n",
       "</style>\n",
       "<table border=\"1\" class=\"dataframe\">\n",
       "  <thead>\n",
       "    <tr style=\"text-align: right;\">\n",
       "      <th></th>\n",
       "      <th>artist</th>\n",
       "      <th>song</th>\n",
       "    </tr>\n",
       "  </thead>\n",
       "  <tbody>\n",
       "    <tr>\n",
       "      <th>5</th>\n",
       "      <td>ABBA</td>\n",
       "      <td>Burning My Bridges</td>\n",
       "    </tr>\n",
       "    <tr>\n",
       "      <th>9</th>\n",
       "      <td>ABBA</td>\n",
       "      <td>Crying Over You</td>\n",
       "    </tr>\n",
       "    <tr>\n",
       "      <th>25</th>\n",
       "      <td>ABBA</td>\n",
       "      <td>Hamlet III</td>\n",
       "    </tr>\n",
       "    <tr>\n",
       "      <th>50</th>\n",
       "      <td>ABBA</td>\n",
       "      <td>Lay All Your Love On Me</td>\n",
       "    </tr>\n",
       "    <tr>\n",
       "      <th>56</th>\n",
       "      <td>ABBA</td>\n",
       "      <td>Mamma Mia</td>\n",
       "    </tr>\n",
       "  </tbody>\n",
       "</table>\n",
       "</div>"
      ],
      "text/plain": [
       "   artist                     song\n",
       "5    ABBA       Burning My Bridges\n",
       "9    ABBA          Crying Over You\n",
       "25   ABBA               Hamlet III\n",
       "50   ABBA  Lay All Your Love On Me\n",
       "56   ABBA                Mamma Mia"
      ]
     },
     "execution_count": 21,
     "metadata": {},
     "output_type": "execute_result"
    }
   ],
   "source": [
    "def recommend_songs(mood, df, top_n=10):\n",
    "    \n",
    "    recommended_songs = df[df['moods'].apply(lambda moods: mood in moods)]\n",
    "    return recommended_songs[['artist', 'song']].head(top_n)\n",
    "\n",
    "recommend_songs('angry', df, top_n=5)\n"
   ]
  },
  {
   "cell_type": "code",
   "execution_count": 22,
   "metadata": {
    "execution": {
     "iopub.execute_input": "2025-02-07T06:48:32.730560Z",
     "iopub.status.busy": "2025-02-07T06:48:32.730356Z",
     "iopub.status.idle": "2025-02-07T06:48:32.752519Z",
     "shell.execute_reply": "2025-02-07T06:48:32.751812Z",
     "shell.execute_reply.started": "2025-02-07T06:48:32.730543Z"
    },
    "trusted": true
   },
   "outputs": [
    {
     "data": {
      "text/html": [
       "<div>\n",
       "<style scoped>\n",
       "    .dataframe tbody tr th:only-of-type {\n",
       "        vertical-align: middle;\n",
       "    }\n",
       "\n",
       "    .dataframe tbody tr th {\n",
       "        vertical-align: top;\n",
       "    }\n",
       "\n",
       "    .dataframe thead th {\n",
       "        text-align: right;\n",
       "    }\n",
       "</style>\n",
       "<table border=\"1\" class=\"dataframe\">\n",
       "  <thead>\n",
       "    <tr style=\"text-align: right;\">\n",
       "      <th></th>\n",
       "      <th>artist</th>\n",
       "      <th>song</th>\n",
       "      <th>clean_lyrics</th>\n",
       "      <th>emotions</th>\n",
       "      <th>moods</th>\n",
       "    </tr>\n",
       "  </thead>\n",
       "  <tbody>\n",
       "    <tr>\n",
       "      <th>0</th>\n",
       "      <td>ABBA</td>\n",
       "      <td>Ahe's My Kind Of Girl</td>\n",
       "      <td>look at her face its a wonderful face  \\r and ...</td>\n",
       "      <td>[joy, surprise, sadness]</td>\n",
       "      <td>[happy, excited, sad]</td>\n",
       "    </tr>\n",
       "    <tr>\n",
       "      <th>1</th>\n",
       "      <td>ABBA</td>\n",
       "      <td>Andante, Andante</td>\n",
       "      <td>take it easy with me please  \\r touch me gentl...</td>\n",
       "      <td>[joy, fear, sadness]</td>\n",
       "      <td>[happy, anxious, sad]</td>\n",
       "    </tr>\n",
       "    <tr>\n",
       "      <th>2</th>\n",
       "      <td>ABBA</td>\n",
       "      <td>As Good As New</td>\n",
       "      <td>ill never know why i had to go  \\r why i had t...</td>\n",
       "      <td>[sadness, surprise, joy]</td>\n",
       "      <td>[sad, excited, happy]</td>\n",
       "    </tr>\n",
       "    <tr>\n",
       "      <th>3</th>\n",
       "      <td>ABBA</td>\n",
       "      <td>Bang</td>\n",
       "      <td>making somebody happy is a question of give an...</td>\n",
       "      <td>[joy, surprise, sadness]</td>\n",
       "      <td>[happy, excited, sad]</td>\n",
       "    </tr>\n",
       "    <tr>\n",
       "      <th>4</th>\n",
       "      <td>ABBA</td>\n",
       "      <td>Bang-A-Boomerang</td>\n",
       "      <td>making somebody happy is a question of give an...</td>\n",
       "      <td>[joy, surprise, sadness]</td>\n",
       "      <td>[happy, excited, sad]</td>\n",
       "    </tr>\n",
       "    <tr>\n",
       "      <th>...</th>\n",
       "      <td>...</td>\n",
       "      <td>...</td>\n",
       "      <td>...</td>\n",
       "      <td>...</td>\n",
       "      <td>...</td>\n",
       "    </tr>\n",
       "    <tr>\n",
       "      <th>57645</th>\n",
       "      <td>Ziggy Marley</td>\n",
       "      <td>Good Old Days</td>\n",
       "      <td>irie days come on play  \\r let the angels fly ...</td>\n",
       "      <td>[sadness, joy, surprise]</td>\n",
       "      <td>[sad, happy, excited]</td>\n",
       "    </tr>\n",
       "    <tr>\n",
       "      <th>57646</th>\n",
       "      <td>Ziggy Marley</td>\n",
       "      <td>Hand To Mouth</td>\n",
       "      <td>power to the workers  \\r more power  \\r power ...</td>\n",
       "      <td>[sadness, surprise, anger]</td>\n",
       "      <td>[sad, excited, angry]</td>\n",
       "    </tr>\n",
       "    <tr>\n",
       "      <th>57647</th>\n",
       "      <td>Zwan</td>\n",
       "      <td>Come With Me</td>\n",
       "      <td>all you need  \\r is something ill believe  \\r ...</td>\n",
       "      <td>[sadness, surprise, joy]</td>\n",
       "      <td>[sad, excited, happy]</td>\n",
       "    </tr>\n",
       "    <tr>\n",
       "      <th>57648</th>\n",
       "      <td>Zwan</td>\n",
       "      <td>Desire</td>\n",
       "      <td>northern star  \\r am i frightened  \\r where ca...</td>\n",
       "      <td>[sadness, fear, joy]</td>\n",
       "      <td>[sad, anxious, happy]</td>\n",
       "    </tr>\n",
       "    <tr>\n",
       "      <th>57649</th>\n",
       "      <td>Zwan</td>\n",
       "      <td>Heartsong</td>\n",
       "      <td>come in  \\r make yourself at home  \\r im a bit...</td>\n",
       "      <td>[sadness, surprise, joy]</td>\n",
       "      <td>[sad, excited, happy]</td>\n",
       "    </tr>\n",
       "  </tbody>\n",
       "</table>\n",
       "<p>57650 rows × 5 columns</p>\n",
       "</div>"
      ],
      "text/plain": [
       "             artist                   song  \\\n",
       "0              ABBA  Ahe's My Kind Of Girl   \n",
       "1              ABBA       Andante, Andante   \n",
       "2              ABBA         As Good As New   \n",
       "3              ABBA                   Bang   \n",
       "4              ABBA       Bang-A-Boomerang   \n",
       "...             ...                    ...   \n",
       "57645  Ziggy Marley          Good Old Days   \n",
       "57646  Ziggy Marley          Hand To Mouth   \n",
       "57647          Zwan           Come With Me   \n",
       "57648          Zwan                 Desire   \n",
       "57649          Zwan              Heartsong   \n",
       "\n",
       "                                            clean_lyrics  \\\n",
       "0      look at her face its a wonderful face  \\r and ...   \n",
       "1      take it easy with me please  \\r touch me gentl...   \n",
       "2      ill never know why i had to go  \\r why i had t...   \n",
       "3      making somebody happy is a question of give an...   \n",
       "4      making somebody happy is a question of give an...   \n",
       "...                                                  ...   \n",
       "57645  irie days come on play  \\r let the angels fly ...   \n",
       "57646  power to the workers  \\r more power  \\r power ...   \n",
       "57647  all you need  \\r is something ill believe  \\r ...   \n",
       "57648  northern star  \\r am i frightened  \\r where ca...   \n",
       "57649  come in  \\r make yourself at home  \\r im a bit...   \n",
       "\n",
       "                         emotions                  moods  \n",
       "0        [joy, surprise, sadness]  [happy, excited, sad]  \n",
       "1            [joy, fear, sadness]  [happy, anxious, sad]  \n",
       "2        [sadness, surprise, joy]  [sad, excited, happy]  \n",
       "3        [joy, surprise, sadness]  [happy, excited, sad]  \n",
       "4        [joy, surprise, sadness]  [happy, excited, sad]  \n",
       "...                           ...                    ...  \n",
       "57645    [sadness, joy, surprise]  [sad, happy, excited]  \n",
       "57646  [sadness, surprise, anger]  [sad, excited, angry]  \n",
       "57647    [sadness, surprise, joy]  [sad, excited, happy]  \n",
       "57648        [sadness, fear, joy]  [sad, anxious, happy]  \n",
       "57649    [sadness, surprise, joy]  [sad, excited, happy]  \n",
       "\n",
       "[57650 rows x 5 columns]"
      ]
     },
     "execution_count": 22,
     "metadata": {},
     "output_type": "execute_result"
    }
   ],
   "source": [
    "df"
   ]
  },
  {
   "cell_type": "code",
   "execution_count": 23,
   "metadata": {
    "execution": {
     "iopub.execute_input": "2025-02-07T06:48:32.753362Z",
     "iopub.status.busy": "2025-02-07T06:48:32.753143Z",
     "iopub.status.idle": "2025-02-07T06:48:32.769376Z",
     "shell.execute_reply": "2025-02-07T06:48:32.768575Z",
     "shell.execute_reply.started": "2025-02-07T06:48:32.753343Z"
    },
    "trusted": true
   },
   "outputs": [
    {
     "data": {
      "text/plain": [
       "<bound method IndexOpsMixin.value_counts of 0        [happy, excited, sad]\n",
       "1        [happy, anxious, sad]\n",
       "2        [sad, excited, happy]\n",
       "3        [happy, excited, sad]\n",
       "4        [happy, excited, sad]\n",
       "                 ...          \n",
       "57645    [sad, happy, excited]\n",
       "57646    [sad, excited, angry]\n",
       "57647    [sad, excited, happy]\n",
       "57648    [sad, anxious, happy]\n",
       "57649    [sad, excited, happy]\n",
       "Name: moods, Length: 57650, dtype: object>"
      ]
     },
     "execution_count": 23,
     "metadata": {},
     "output_type": "execute_result"
    }
   ],
   "source": [
    "df['moods'].value_counts"
   ]
  },
  {
   "cell_type": "code",
   "execution_count": null,
   "metadata": {
    "trusted": true
   },
   "outputs": [],
   "source": []
  },
  {
   "cell_type": "code",
   "execution_count": null,
   "metadata": {
    "trusted": true
   },
   "outputs": [],
   "source": []
  },
  {
   "cell_type": "code",
   "execution_count": null,
   "metadata": {
    "trusted": true
   },
   "outputs": [],
   "source": []
  },
  {
   "cell_type": "code",
   "execution_count": 29,
   "metadata": {
    "execution": {
     "iopub.execute_input": "2025-02-07T07:10:56.052326Z",
     "iopub.status.busy": "2025-02-07T07:10:56.052090Z",
     "iopub.status.idle": "2025-02-07T07:10:56.078025Z",
     "shell.execute_reply": "2025-02-07T07:10:56.077152Z",
     "shell.execute_reply.started": "2025-02-07T07:10:56.052307Z"
    },
    "trusted": true
   },
   "outputs": [
    {
     "data": {
      "text/html": [
       "<div>\n",
       "<style scoped>\n",
       "    .dataframe tbody tr th:only-of-type {\n",
       "        vertical-align: middle;\n",
       "    }\n",
       "\n",
       "    .dataframe tbody tr th {\n",
       "        vertical-align: top;\n",
       "    }\n",
       "\n",
       "    .dataframe thead th {\n",
       "        text-align: right;\n",
       "    }\n",
       "</style>\n",
       "<table border=\"1\" class=\"dataframe\">\n",
       "  <thead>\n",
       "    <tr style=\"text-align: right;\">\n",
       "      <th></th>\n",
       "      <th>artist</th>\n",
       "      <th>song</th>\n",
       "      <th>clean_lyrics</th>\n",
       "      <th>emotions</th>\n",
       "      <th>moods</th>\n",
       "    </tr>\n",
       "  </thead>\n",
       "  <tbody>\n",
       "    <tr>\n",
       "      <th>0</th>\n",
       "      <td>ABBA</td>\n",
       "      <td>Ahe's My Kind Of Girl</td>\n",
       "      <td>look at her face its a wonderful face  \\r and ...</td>\n",
       "      <td>[joy, surprise, sadness]</td>\n",
       "      <td>[happy, excited, sad]</td>\n",
       "    </tr>\n",
       "    <tr>\n",
       "      <th>1</th>\n",
       "      <td>ABBA</td>\n",
       "      <td>Andante, Andante</td>\n",
       "      <td>take it easy with me please  \\r touch me gentl...</td>\n",
       "      <td>[joy, fear, sadness]</td>\n",
       "      <td>[happy, anxious, sad]</td>\n",
       "    </tr>\n",
       "    <tr>\n",
       "      <th>2</th>\n",
       "      <td>ABBA</td>\n",
       "      <td>As Good As New</td>\n",
       "      <td>ill never know why i had to go  \\r why i had t...</td>\n",
       "      <td>[sadness, surprise, joy]</td>\n",
       "      <td>[sad, excited, happy]</td>\n",
       "    </tr>\n",
       "    <tr>\n",
       "      <th>3</th>\n",
       "      <td>ABBA</td>\n",
       "      <td>Bang</td>\n",
       "      <td>making somebody happy is a question of give an...</td>\n",
       "      <td>[joy, surprise, sadness]</td>\n",
       "      <td>[happy, excited, sad]</td>\n",
       "    </tr>\n",
       "    <tr>\n",
       "      <th>4</th>\n",
       "      <td>ABBA</td>\n",
       "      <td>Bang-A-Boomerang</td>\n",
       "      <td>making somebody happy is a question of give an...</td>\n",
       "      <td>[joy, surprise, sadness]</td>\n",
       "      <td>[happy, excited, sad]</td>\n",
       "    </tr>\n",
       "    <tr>\n",
       "      <th>...</th>\n",
       "      <td>...</td>\n",
       "      <td>...</td>\n",
       "      <td>...</td>\n",
       "      <td>...</td>\n",
       "      <td>...</td>\n",
       "    </tr>\n",
       "    <tr>\n",
       "      <th>57645</th>\n",
       "      <td>Ziggy Marley</td>\n",
       "      <td>Good Old Days</td>\n",
       "      <td>irie days come on play  \\r let the angels fly ...</td>\n",
       "      <td>[sadness, joy, surprise]</td>\n",
       "      <td>[sad, happy, excited]</td>\n",
       "    </tr>\n",
       "    <tr>\n",
       "      <th>57646</th>\n",
       "      <td>Ziggy Marley</td>\n",
       "      <td>Hand To Mouth</td>\n",
       "      <td>power to the workers  \\r more power  \\r power ...</td>\n",
       "      <td>[sadness, surprise, anger]</td>\n",
       "      <td>[sad, excited, angry]</td>\n",
       "    </tr>\n",
       "    <tr>\n",
       "      <th>57647</th>\n",
       "      <td>Zwan</td>\n",
       "      <td>Come With Me</td>\n",
       "      <td>all you need  \\r is something ill believe  \\r ...</td>\n",
       "      <td>[sadness, surprise, joy]</td>\n",
       "      <td>[sad, excited, happy]</td>\n",
       "    </tr>\n",
       "    <tr>\n",
       "      <th>57648</th>\n",
       "      <td>Zwan</td>\n",
       "      <td>Desire</td>\n",
       "      <td>northern star  \\r am i frightened  \\r where ca...</td>\n",
       "      <td>[sadness, fear, joy]</td>\n",
       "      <td>[sad, anxious, happy]</td>\n",
       "    </tr>\n",
       "    <tr>\n",
       "      <th>57649</th>\n",
       "      <td>Zwan</td>\n",
       "      <td>Heartsong</td>\n",
       "      <td>come in  \\r make yourself at home  \\r im a bit...</td>\n",
       "      <td>[sadness, surprise, joy]</td>\n",
       "      <td>[sad, excited, happy]</td>\n",
       "    </tr>\n",
       "  </tbody>\n",
       "</table>\n",
       "<p>57650 rows × 5 columns</p>\n",
       "</div>"
      ],
      "text/plain": [
       "             artist                   song  \\\n",
       "0              ABBA  Ahe's My Kind Of Girl   \n",
       "1              ABBA       Andante, Andante   \n",
       "2              ABBA         As Good As New   \n",
       "3              ABBA                   Bang   \n",
       "4              ABBA       Bang-A-Boomerang   \n",
       "...             ...                    ...   \n",
       "57645  Ziggy Marley          Good Old Days   \n",
       "57646  Ziggy Marley          Hand To Mouth   \n",
       "57647          Zwan           Come With Me   \n",
       "57648          Zwan                 Desire   \n",
       "57649          Zwan              Heartsong   \n",
       "\n",
       "                                            clean_lyrics  \\\n",
       "0      look at her face its a wonderful face  \\r and ...   \n",
       "1      take it easy with me please  \\r touch me gentl...   \n",
       "2      ill never know why i had to go  \\r why i had t...   \n",
       "3      making somebody happy is a question of give an...   \n",
       "4      making somebody happy is a question of give an...   \n",
       "...                                                  ...   \n",
       "57645  irie days come on play  \\r let the angels fly ...   \n",
       "57646  power to the workers  \\r more power  \\r power ...   \n",
       "57647  all you need  \\r is something ill believe  \\r ...   \n",
       "57648  northern star  \\r am i frightened  \\r where ca...   \n",
       "57649  come in  \\r make yourself at home  \\r im a bit...   \n",
       "\n",
       "                         emotions                  moods  \n",
       "0        [joy, surprise, sadness]  [happy, excited, sad]  \n",
       "1            [joy, fear, sadness]  [happy, anxious, sad]  \n",
       "2        [sadness, surprise, joy]  [sad, excited, happy]  \n",
       "3        [joy, surprise, sadness]  [happy, excited, sad]  \n",
       "4        [joy, surprise, sadness]  [happy, excited, sad]  \n",
       "...                           ...                    ...  \n",
       "57645    [sadness, joy, surprise]  [sad, happy, excited]  \n",
       "57646  [sadness, surprise, anger]  [sad, excited, angry]  \n",
       "57647    [sadness, surprise, joy]  [sad, excited, happy]  \n",
       "57648        [sadness, fear, joy]  [sad, anxious, happy]  \n",
       "57649    [sadness, surprise, joy]  [sad, excited, happy]  \n",
       "\n",
       "[57650 rows x 5 columns]"
      ]
     },
     "execution_count": 29,
     "metadata": {},
     "output_type": "execute_result"
    }
   ],
   "source": [
    "df\n"
   ]
  },
  {
   "cell_type": "code",
   "execution_count": 25,
   "metadata": {
    "execution": {
     "iopub.execute_input": "2025-02-07T06:48:32.794323Z",
     "iopub.status.busy": "2025-02-07T06:48:32.794043Z",
     "iopub.status.idle": "2025-02-07T06:48:32.862566Z",
     "shell.execute_reply": "2025-02-07T06:48:32.861929Z",
     "shell.execute_reply.started": "2025-02-07T06:48:32.794303Z"
    },
    "trusted": true
   },
   "outputs": [
    {
     "name": "stdout",
     "output_type": "stream",
     "text": [
      "[nltk_data] Downloading package stopwords to /usr/share/nltk_data...\n",
      "[nltk_data]   Package stopwords is already up-to-date!\n"
     ]
    },
    {
     "data": {
      "text/plain": [
       "True"
      ]
     },
     "execution_count": 25,
     "metadata": {},
     "output_type": "execute_result"
    }
   ],
   "source": [
    "import re\n",
    "import nltk\n",
    "nltk.download('stopwords')\n",
    "\n",
    "\n",
    "\n"
   ]
  },
  {
   "cell_type": "code",
   "execution_count": 30,
   "metadata": {
    "execution": {
     "iopub.execute_input": "2025-02-07T07:10:56.079453Z",
     "iopub.status.busy": "2025-02-07T07:10:56.079168Z",
     "iopub.status.idle": "2025-02-07T07:10:56.090478Z",
     "shell.execute_reply": "2025-02-07T07:10:56.089796Z",
     "shell.execute_reply.started": "2025-02-07T07:10:56.079427Z"
    },
    "trusted": true
   },
   "outputs": [],
   "source": [
    "from nltk.corpus import stopwords\n",
    "from nltk.stem.porter import PorterStemmer  #for stemmming\n",
    "ps = PorterStemmer()"
   ]
  },
  {
   "cell_type": "code",
   "execution_count": 27,
   "metadata": {
    "execution": {
     "iopub.execute_input": "2025-02-07T06:48:32.867762Z",
     "iopub.status.busy": "2025-02-07T06:48:32.867497Z",
     "iopub.status.idle": "2025-02-07T07:10:56.046493Z",
     "shell.execute_reply": "2025-02-07T07:10:56.045760Z",
     "shell.execute_reply.started": "2025-02-07T06:48:32.867743Z"
    },
    "trusted": true
   },
   "outputs": [],
   "source": [
    "corpus = []\n",
    "\n",
    "for i in range(0, len(df)):\n",
    "    review = re.sub('[^a-zA-Z0-9]', ' ', df['clean_lyrics'][i])\n",
    "\n",
    "    review = review.lower()\n",
    "    review = review.split()\n",
    "\n",
    "    review = [ps.stem(word) for word in review if not word in stopwords.words('english')]\n",
    "    review = ' '.join(review)\n",
    "    corpus.append(review)"
   ]
  },
  {
   "cell_type": "code",
   "execution_count": 32,
   "metadata": {
    "execution": {
     "iopub.execute_input": "2025-02-07T07:15:00.019276Z",
     "iopub.status.busy": "2025-02-07T07:15:00.018953Z",
     "iopub.status.idle": "2025-02-07T07:15:37.889806Z",
     "shell.execute_reply": "2025-02-07T07:15:37.889101Z",
     "shell.execute_reply.started": "2025-02-07T07:15:00.019217Z"
    },
    "trusted": true
   },
   "outputs": [],
   "source": [
    "from sklearn.feature_extraction.text import CountVectorizer\n",
    "cv = CountVectorizer(max_features=2500,binary = True , ngram_range=(1,3))  #it give only 0 and 1  #2500 is for 2500 importent fitures\n",
    "x = cv.fit_transform(corpus).toarray()"
   ]
  },
  {
   "cell_type": "code",
   "execution_count": 33,
   "metadata": {
    "execution": {
     "iopub.execute_input": "2025-02-07T07:15:53.086672Z",
     "iopub.status.busy": "2025-02-07T07:15:53.086386Z",
     "iopub.status.idle": "2025-02-07T07:15:53.092129Z",
     "shell.execute_reply": "2025-02-07T07:15:53.091513Z",
     "shell.execute_reply.started": "2025-02-07T07:15:53.086651Z"
    },
    "trusted": true
   },
   "outputs": [
    {
     "data": {
      "text/plain": [
       "array([[0, 0, 0, ..., 0, 0, 0],\n",
       "       [0, 0, 0, ..., 0, 0, 0],\n",
       "       [0, 0, 0, ..., 0, 0, 0],\n",
       "       ...,\n",
       "       [0, 0, 0, ..., 0, 0, 0],\n",
       "       [0, 0, 0, ..., 0, 0, 0],\n",
       "       [0, 0, 0, ..., 0, 0, 0]])"
      ]
     },
     "execution_count": 33,
     "metadata": {},
     "output_type": "execute_result"
    }
   ],
   "source": [
    "x"
   ]
  },
  {
   "cell_type": "code",
   "execution_count": 34,
   "metadata": {
    "execution": {
     "iopub.execute_input": "2025-02-07T07:16:00.536978Z",
     "iopub.status.busy": "2025-02-07T07:16:00.536608Z",
     "iopub.status.idle": "2025-02-07T07:16:00.542952Z",
     "shell.execute_reply": "2025-02-07T07:16:00.542075Z",
     "shell.execute_reply.started": "2025-02-07T07:16:00.536949Z"
    },
    "trusted": true
   },
   "outputs": [
    {
     "data": {
      "text/plain": [
       "array([0, 0, 0, ..., 0, 0, 0])"
      ]
     },
     "execution_count": 34,
     "metadata": {},
     "output_type": "execute_result"
    }
   ],
   "source": [
    "x[1]"
   ]
  },
  {
   "cell_type": "code",
   "execution_count": 35,
   "metadata": {
    "execution": {
     "iopub.execute_input": "2025-02-07T07:16:08.331639Z",
     "iopub.status.busy": "2025-02-07T07:16:08.331348Z",
     "iopub.status.idle": "2025-02-07T07:16:08.336515Z",
     "shell.execute_reply": "2025-02-07T07:16:08.335812Z",
     "shell.execute_reply.started": "2025-02-07T07:16:08.331617Z"
    },
    "trusted": true
   },
   "outputs": [
    {
     "data": {
      "text/plain": [
       "(57650, 2500)"
      ]
     },
     "execution_count": 35,
     "metadata": {},
     "output_type": "execute_result"
    }
   ],
   "source": [
    "x.shape"
   ]
  },
  {
   "cell_type": "code",
   "execution_count": 37,
   "metadata": {
    "execution": {
     "iopub.execute_input": "2025-02-07T07:17:24.623527Z",
     "iopub.status.busy": "2025-02-07T07:17:24.623200Z",
     "iopub.status.idle": "2025-02-07T07:17:25.048910Z",
     "shell.execute_reply": "2025-02-07T07:17:25.048236Z",
     "shell.execute_reply.started": "2025-02-07T07:17:24.623503Z"
    },
    "trusted": true
   },
   "outputs": [],
   "source": [
    "y = pd.get_dummies(df['clean_lyrics'])\n",
    "y = y.iloc[:, 1].values"
   ]
  },
  {
   "cell_type": "code",
   "execution_count": 38,
   "metadata": {
    "execution": {
     "iopub.execute_input": "2025-02-07T07:17:32.549767Z",
     "iopub.status.busy": "2025-02-07T07:17:32.549473Z",
     "iopub.status.idle": "2025-02-07T07:17:32.554964Z",
     "shell.execute_reply": "2025-02-07T07:17:32.554132Z",
     "shell.execute_reply.started": "2025-02-07T07:17:32.549743Z"
    },
    "trusted": true
   },
   "outputs": [
    {
     "data": {
      "text/plain": [
       "array([False, False, False, ..., False, False, False])"
      ]
     },
     "execution_count": 38,
     "metadata": {},
     "output_type": "execute_result"
    }
   ],
   "source": [
    "y"
   ]
  },
  {
   "cell_type": "code",
   "execution_count": 46,
   "metadata": {
    "execution": {
     "iopub.execute_input": "2025-02-07T07:18:58.606665Z",
     "iopub.status.busy": "2025-02-07T07:18:58.606367Z",
     "iopub.status.idle": "2025-02-07T07:18:58.966353Z",
     "shell.execute_reply": "2025-02-07T07:18:58.965574Z",
     "shell.execute_reply.started": "2025-02-07T07:18:58.606645Z"
    },
    "trusted": true
   },
   "outputs": [],
   "source": [
    "from sklearn.model_selection import train_test_split\n",
    "X_train, X_test, y_train, y_test = train_test_split(x, y, test_size = 0.30)"
   ]
  },
  {
   "cell_type": "code",
   "execution_count": 47,
   "metadata": {
    "execution": {
     "iopub.execute_input": "2025-02-07T07:19:00.795481Z",
     "iopub.status.busy": "2025-02-07T07:19:00.795117Z",
     "iopub.status.idle": "2025-02-07T07:19:01.905328Z",
     "shell.execute_reply": "2025-02-07T07:19:01.904195Z",
     "shell.execute_reply.started": "2025-02-07T07:19:00.795452Z"
    },
    "trusted": true
   },
   "outputs": [],
   "source": [
    "from sklearn.naive_bayes import MultinomialNB\n",
    "spam_detect_model = MultinomialNB().fit(X_train, y_train)"
   ]
  },
  {
   "cell_type": "code",
   "execution_count": 48,
   "metadata": {
    "execution": {
     "iopub.execute_input": "2025-02-07T07:19:01.956487Z",
     "iopub.status.busy": "2025-02-07T07:19:01.956131Z",
     "iopub.status.idle": "2025-02-07T07:19:02.086470Z",
     "shell.execute_reply": "2025-02-07T07:19:02.085752Z",
     "shell.execute_reply.started": "2025-02-07T07:19:01.956456Z"
    },
    "trusted": true
   },
   "outputs": [],
   "source": [
    "y_pred=spam_detect_model.predict(X_test)"
   ]
  },
  {
   "cell_type": "code",
   "execution_count": 49,
   "metadata": {
    "execution": {
     "iopub.execute_input": "2025-02-07T07:19:02.494648Z",
     "iopub.status.busy": "2025-02-07T07:19:02.494346Z",
     "iopub.status.idle": "2025-02-07T07:19:02.498501Z",
     "shell.execute_reply": "2025-02-07T07:19:02.497581Z",
     "shell.execute_reply.started": "2025-02-07T07:19:02.494624Z"
    },
    "trusted": true
   },
   "outputs": [],
   "source": [
    "from sklearn.metrics import accuracy_score,classification_report"
   ]
  },
  {
   "cell_type": "code",
   "execution_count": 60,
   "metadata": {
    "execution": {
     "iopub.execute_input": "2025-02-07T07:24:09.053096Z",
     "iopub.status.busy": "2025-02-07T07:24:09.052778Z",
     "iopub.status.idle": "2025-02-07T07:24:09.058042Z",
     "shell.execute_reply": "2025-02-07T07:24:09.057230Z",
     "shell.execute_reply.started": "2025-02-07T07:24:09.053069Z"
    },
    "trusted": true
   },
   "outputs": [
    {
     "name": "stdout",
     "output_type": "stream",
     "text": [
      "Cross Validation Scores:  [0.9998761 0.9998761 1.        0.9998761 0.9998761]\n",
      "Average CV Score:  0.9999008796927271\n",
      "Number of CV Scores used in Average:  5\n"
     ]
    }
   ],
   "source": [
    "# score=accuracy_score(y_test,y_pred)\n",
    "# print(score)\n",
    "print(\"Cross Validation Scores: \", scores)\n",
    "print(\"Average CV Score: \", scores.mean())\n",
    "print(\"Number of CV Scores used in Average: \", len(scores))"
   ]
  },
  {
   "cell_type": "code",
   "execution_count": 51,
   "metadata": {
    "execution": {
     "iopub.execute_input": "2025-02-07T07:21:07.157200Z",
     "iopub.status.busy": "2025-02-07T07:21:07.156904Z",
     "iopub.status.idle": "2025-02-07T07:21:07.287483Z",
     "shell.execute_reply": "2025-02-07T07:21:07.286816Z",
     "shell.execute_reply.started": "2025-02-07T07:21:07.157177Z"
    },
    "trusted": true
   },
   "outputs": [],
   "source": [
    "from sklearn.tree import DecisionTreeClassifier\n",
    "from sklearn.model_selection import KFold, cross_val_score"
   ]
  },
  {
   "cell_type": "code",
   "execution_count": 52,
   "metadata": {
    "execution": {
     "iopub.execute_input": "2025-02-07T07:21:16.290719Z",
     "iopub.status.busy": "2025-02-07T07:21:16.290423Z",
     "iopub.status.idle": "2025-02-07T07:21:16.294520Z",
     "shell.execute_reply": "2025-02-07T07:21:16.293652Z",
     "shell.execute_reply.started": "2025-02-07T07:21:16.290690Z"
    },
    "trusted": true
   },
   "outputs": [],
   "source": [
    "clf = DecisionTreeClassifier(random_state=42)"
   ]
  },
  {
   "cell_type": "code",
   "execution_count": 55,
   "metadata": {
    "execution": {
     "iopub.execute_input": "2025-02-07T07:22:06.102994Z",
     "iopub.status.busy": "2025-02-07T07:22:06.102654Z",
     "iopub.status.idle": "2025-02-07T07:22:12.231148Z",
     "shell.execute_reply": "2025-02-07T07:22:12.230505Z",
     "shell.execute_reply.started": "2025-02-07T07:22:06.102966Z"
    },
    "trusted": true
   },
   "outputs": [],
   "source": [
    "k_folds = KFold(n_splits = 5)\n",
    "\n",
    "scores = cross_val_score(clf, X_train, y_train, cv = k_folds)"
   ]
  },
  {
   "cell_type": "code",
   "execution_count": 56,
   "metadata": {
    "execution": {
     "iopub.execute_input": "2025-02-07T07:22:50.327335Z",
     "iopub.status.busy": "2025-02-07T07:22:50.326977Z",
     "iopub.status.idle": "2025-02-07T07:22:50.333595Z",
     "shell.execute_reply": "2025-02-07T07:22:50.332660Z",
     "shell.execute_reply.started": "2025-02-07T07:22:50.327303Z"
    },
    "trusted": true
   },
   "outputs": [
    {
     "name": "stdout",
     "output_type": "stream",
     "text": [
      "Cross Validation Scores:  [0.9998761 0.9998761 1.        0.9998761 0.9998761]\n",
      "Average CV Score:  0.9999008796927271\n",
      "Number of CV Scores used in Average:  5\n"
     ]
    }
   ],
   "source": [
    "print(\"Cross Validation Scores: \", scores)\n",
    "print(\"Average CV Score: \", scores.mean())\n",
    "print(\"Number of CV Scores used in Average: \", len(scores))"
   ]
  },
  {
   "cell_type": "code",
   "execution_count": 58,
   "metadata": {
    "execution": {
     "iopub.execute_input": "2025-02-07T07:23:48.362880Z",
     "iopub.status.busy": "2025-02-07T07:23:48.362570Z",
     "iopub.status.idle": "2025-02-07T07:23:48.366598Z",
     "shell.execute_reply": "2025-02-07T07:23:48.365602Z",
     "shell.execute_reply.started": "2025-02-07T07:23:48.362856Z"
    },
    "trusted": true
   },
   "outputs": [],
   "source": [
    "# score=accuracy_score(y_test,y_pred)\n",
    "# print(score)"
   ]
  },
  {
   "cell_type": "code",
   "execution_count": null,
   "metadata": {
    "trusted": true
   },
   "outputs": [],
   "source": []
  }
 ],
 "metadata": {
  "kaggle": {
   "accelerator": "gpu",
   "dataSources": [
    {
     "datasetId": 6616117,
     "sourceId": 10680034,
     "sourceType": "datasetVersion"
    }
   ],
   "dockerImageVersionId": 30840,
   "isGpuEnabled": true,
   "isInternetEnabled": true,
   "language": "python",
   "sourceType": "notebook"
  },
  "kernelspec": {
   "display_name": "Python 3",
   "language": "python",
   "name": "python3"
  },
  "language_info": {
   "codemirror_mode": {
    "name": "ipython",
    "version": 3
   },
   "file_extension": ".py",
   "mimetype": "text/x-python",
   "name": "python",
   "nbconvert_exporter": "python",
   "pygments_lexer": "ipython3",
   "version": "3.10.12"
  }
 },
 "nbformat": 4,
 "nbformat_minor": 4
}
